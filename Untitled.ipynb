{
 "cells": [
  {
   "cell_type": "code",
   "execution_count": 26,
   "metadata": {},
   "outputs": [],
   "source": [
    "from datetime import datetime\n",
    "import json\n",
    "\n",
    "import boto3\n",
    "\n",
    "import pandas as pd\n",
    "\n",
    "from boto3.dynamodb.conditions import Key, Attr\n",
    "\n",
    "\n",
    "db = boto3.resource('dynamodb', 'ap-southeast-2')\n",
    "s3 = boto3.client('s3')\n",
    "\n",
    "def get_pkl_from_s3(fn, bucket = 'signallambda-dev-large-df-storage'):\n",
    "    s3 = boto3.client('s3')\n",
    "    bucket_objects = s3.list_objects(Bucket=bucket)\n",
    "    s3_files = [C['Key'] for C in bucket_objects['Contents']]\n",
    "    signal_file = [fn in b for b in s3_files]\n",
    "    signal_file = [i for (i, v) in zip(s3_files, signal_file) if v]\n",
    "    if len(signal_file) > 0:\n",
    "        print('attempting to read: {}'.format(signal_file[0]))\n",
    "        try:\n",
    "            s3 = boto3.resource('s3')\n",
    "            my_pickle = pickle.loads(s3.Bucket(bucket).Object(signal_file[0]).get()['Body'].read())\n",
    "            print('much_read success')\n",
    "        except Exception as e:\n",
    "            print(repr(e))\n",
    "    else:\n",
    "        print('could not find file with string {}\\nfiles in bucket:{}'.format(fn, s3_files))\n",
    "        my_pickle = []\n",
    "    return(my_pickle)\n"
   ]
  },
  {
   "cell_type": "code",
   "execution_count": 27,
   "metadata": {},
   "outputs": [
    {
     "name": "stdout",
     "output_type": "stream",
     "text": [
      "attempting to read: Stratergy_results_2020-09-16 14:27:15.660614+10:00.pkl\n",
      "much_read success\n"
     ]
    }
   ],
   "source": [
    "best_result_fn = 'Stratergy_results_2020-09-16'\n",
    "obj = get_pkl_from_s3(best_result_fn)"
   ]
  },
  {
   "cell_type": "code",
   "execution_count": 29,
   "metadata": {},
   "outputs": [
    {
     "data": {
      "text/html": [
       "<div>\n",
       "<style scoped>\n",
       "    .dataframe tbody tr th:only-of-type {\n",
       "        vertical-align: middle;\n",
       "    }\n",
       "\n",
       "    .dataframe tbody tr th {\n",
       "        vertical-align: top;\n",
       "    }\n",
       "\n",
       "    .dataframe thead th {\n",
       "        text-align: right;\n",
       "    }\n",
       "</style>\n",
       "<table border=\"1\" class=\"dataframe\">\n",
       "  <thead>\n",
       "    <tr style=\"text-align: right;\">\n",
       "      <th></th>\n",
       "      <th>date</th>\n",
       "      <th>period_cpnl</th>\n",
       "      <th>ret</th>\n",
       "      <th>portfolio_cpnl</th>\n",
       "    </tr>\n",
       "  </thead>\n",
       "  <tbody>\n",
       "    <tr>\n",
       "      <th>1</th>\n",
       "      <td>2019-02-01</td>\n",
       "      <td>0.995133</td>\n",
       "      <td>-0.004867</td>\n",
       "      <td>0.995133</td>\n",
       "    </tr>\n",
       "    <tr>\n",
       "      <th>2</th>\n",
       "      <td>2019-02-04</td>\n",
       "      <td>0.999837</td>\n",
       "      <td>0.004728</td>\n",
       "      <td>0.999837</td>\n",
       "    </tr>\n",
       "    <tr>\n",
       "      <th>3</th>\n",
       "      <td>2019-02-05</td>\n",
       "      <td>1.006770</td>\n",
       "      <td>0.006933</td>\n",
       "      <td>1.006770</td>\n",
       "    </tr>\n",
       "    <tr>\n",
       "      <th>4</th>\n",
       "      <td>2019-02-06</td>\n",
       "      <td>1.018561</td>\n",
       "      <td>0.011712</td>\n",
       "      <td>1.018561</td>\n",
       "    </tr>\n",
       "    <tr>\n",
       "      <th>5</th>\n",
       "      <td>2019-02-07</td>\n",
       "      <td>1.015874</td>\n",
       "      <td>-0.002637</td>\n",
       "      <td>1.015874</td>\n",
       "    </tr>\n",
       "    <tr>\n",
       "      <th>...</th>\n",
       "      <td>...</td>\n",
       "      <td>...</td>\n",
       "      <td>...</td>\n",
       "      <td>...</td>\n",
       "    </tr>\n",
       "    <tr>\n",
       "      <th>260</th>\n",
       "      <td>2020-01-24</td>\n",
       "      <td>1.077924</td>\n",
       "      <td>-0.000948</td>\n",
       "      <td>1.450939</td>\n",
       "    </tr>\n",
       "    <tr>\n",
       "      <th>261</th>\n",
       "      <td>2020-01-28</td>\n",
       "      <td>1.069815</td>\n",
       "      <td>-0.007523</td>\n",
       "      <td>1.440024</td>\n",
       "    </tr>\n",
       "    <tr>\n",
       "      <th>262</th>\n",
       "      <td>2020-01-29</td>\n",
       "      <td>1.063505</td>\n",
       "      <td>-0.005898</td>\n",
       "      <td>1.431531</td>\n",
       "    </tr>\n",
       "    <tr>\n",
       "      <th>263</th>\n",
       "      <td>2020-01-30</td>\n",
       "      <td>1.054282</td>\n",
       "      <td>-0.008673</td>\n",
       "      <td>1.419116</td>\n",
       "    </tr>\n",
       "    <tr>\n",
       "      <th>264</th>\n",
       "      <td>2020-01-31</td>\n",
       "      <td>1.056806</td>\n",
       "      <td>0.002394</td>\n",
       "      <td>1.422513</td>\n",
       "    </tr>\n",
       "  </tbody>\n",
       "</table>\n",
       "<p>253 rows × 4 columns</p>\n",
       "</div>"
      ],
      "text/plain": [
       "           date  period_cpnl       ret  portfolio_cpnl\n",
       "1    2019-02-01     0.995133 -0.004867        0.995133\n",
       "2    2019-02-04     0.999837  0.004728        0.999837\n",
       "3    2019-02-05     1.006770  0.006933        1.006770\n",
       "4    2019-02-06     1.018561  0.011712        1.018561\n",
       "5    2019-02-07     1.015874 -0.002637        1.015874\n",
       "..          ...          ...       ...             ...\n",
       "260  2020-01-24     1.077924 -0.000948        1.450939\n",
       "261  2020-01-28     1.069815 -0.007523        1.440024\n",
       "262  2020-01-29     1.063505 -0.005898        1.431531\n",
       "263  2020-01-30     1.054282 -0.008673        1.419116\n",
       "264  2020-01-31     1.056806  0.002394        1.422513\n",
       "\n",
       "[253 rows x 4 columns]"
      ]
     },
     "execution_count": 29,
     "metadata": {},
     "output_type": "execute_result"
    }
   ],
   "source": [
    "obj['pnl_series']"
   ]
  },
  {
   "cell_type": "code",
   "execution_count": 19,
   "metadata": {},
   "outputs": [
    {
     "ename": "EOFError",
     "evalue": "Ran out of input",
     "output_type": "error",
     "traceback": [
      "\u001b[0;31m---------------------------------------------------------------------------\u001b[0m",
      "\u001b[0;31mEOFError\u001b[0m                                  Traceback (most recent call last)",
      "\u001b[0;32m<ipython-input-19-7906d4b70753>\u001b[0m in \u001b[0;36m<module>\u001b[0;34m\u001b[0m\n\u001b[1;32m      1\u001b[0m \u001b[0;32mimport\u001b[0m \u001b[0mpickle\u001b[0m\u001b[0;34m\u001b[0m\u001b[0;34m\u001b[0m\u001b[0m\n\u001b[0;32m----> 2\u001b[0;31m \u001b[0mpickle\u001b[0m\u001b[0;34m.\u001b[0m\u001b[0mloads\u001b[0m\u001b[0;34m(\u001b[0m\u001b[0mobj\u001b[0m\u001b[0;34m[\u001b[0m\u001b[0;34m'Body'\u001b[0m\u001b[0;34m]\u001b[0m\u001b[0;34m.\u001b[0m\u001b[0mread\u001b[0m\u001b[0;34m(\u001b[0m\u001b[0;34m)\u001b[0m\u001b[0;34m)\u001b[0m\u001b[0;34m\u001b[0m\u001b[0;34m\u001b[0m\u001b[0m\n\u001b[0m",
      "\u001b[0;31mEOFError\u001b[0m: Ran out of input"
     ]
    }
   ],
   "source": [
    "import pickle\n",
    "pickle.loads(obj['Body'].read())"
   ]
  },
  {
   "cell_type": "code",
   "execution_count": 13,
   "metadata": {},
   "outputs": [],
   "source": [
    "fn = best_result_fn\n",
    "bucket = 'signallambda-dev-large-df-storage'\n",
    "bucket_objects = s3.list_objects(Bucket=bucket)\n",
    "s3_files = [C['Key'] for C in bucket_objects['Contents']]\n",
    "signal_file = [fn in b for b in s3_files]\n",
    "signal_file = [i for (i, v) in zip(s3_files, signal_file) if v]"
   ]
  },
  {
   "cell_type": "code",
   "execution_count": 14,
   "metadata": {},
   "outputs": [
    {
     "data": {
      "text/plain": [
       "['Stratergy_results_2020-09-16 14:27:15.660614+10:00.pkl']"
      ]
     },
     "execution_count": 14,
     "metadata": {},
     "output_type": "execute_result"
    }
   ],
   "source": [
    "signal_file"
   ]
  },
  {
   "cell_type": "code",
   "execution_count": 16,
   "metadata": {},
   "outputs": [],
   "source": [
    "import pickle\n",
    "import boto3\n",
    "\n",
    "s3 = boto3.resource('s3')\n",
    "my_pickle = pickle.loads(s3.Bucket(bucket).Object(signal_file[0]).get()['Body'].read())"
   ]
  },
  {
   "cell_type": "code",
   "execution_count": 17,
   "metadata": {},
   "outputs": [
    {
     "data": {
      "text/plain": [
       "{'stratergy': 'idio_mean_frog',\n",
       " 'stratergy_period': 'ALL',\n",
       " 'N': 10,\n",
       " 'start_year': 2019,\n",
       " 'end_year': 2019,\n",
       " 'final_wealth_multiple': 1.4225131798639405,\n",
       " 'sharpe_ratio': 1.6312025559663816,\n",
       " 'kelly_leverage': 8.067172296681633,\n",
       " 'final_wealth_check': True,\n",
       " 'run_date_time': '2020-09-16 14:27:15.660614+10:00',\n",
       " 'pnl_series':            date  period_cpnl       ret  portfolio_cpnl\n",
       " 1    2019-02-01     0.995133 -0.004867        0.995133\n",
       " 2    2019-02-04     0.999837  0.004728        0.999837\n",
       " 3    2019-02-05     1.006770  0.006933        1.006770\n",
       " 4    2019-02-06     1.018561  0.011712        1.018561\n",
       " 5    2019-02-07     1.015874 -0.002637        1.015874\n",
       " ..          ...          ...       ...             ...\n",
       " 260  2020-01-24     1.077924 -0.000948        1.450939\n",
       " 261  2020-01-28     1.069815 -0.007523        1.440024\n",
       " 262  2020-01-29     1.063505 -0.005898        1.431531\n",
       " 263  2020-01-30     1.054282 -0.008673        1.419116\n",
       " 264  2020-01-31     1.056806  0.002394        1.422513\n",
       " \n",
       " [253 rows x 4 columns]}"
      ]
     },
     "execution_count": 17,
     "metadata": {},
     "output_type": "execute_result"
    }
   ],
   "source": [
    "my_pickle"
   ]
  },
  {
   "cell_type": "code",
   "execution_count": null,
   "metadata": {},
   "outputs": [],
   "source": []
  }
 ],
 "metadata": {
  "kernelspec": {
   "display_name": "aws_py38",
   "language": "python",
   "name": "aws_py38"
  },
  "language_info": {
   "codemirror_mode": {
    "name": "ipython",
    "version": 3
   },
   "file_extension": ".py",
   "mimetype": "text/x-python",
   "name": "python",
   "nbconvert_exporter": "python",
   "pygments_lexer": "ipython3",
   "version": "3.8.3"
  }
 },
 "nbformat": 4,
 "nbformat_minor": 4
}
