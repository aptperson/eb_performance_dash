{
 "cells": [
  {
   "cell_type": "code",
   "execution_count": 31,
   "metadata": {},
   "outputs": [
    {
     "name": "stdout",
     "output_type": "stream",
     "text": [
      "Collecting pickle5\n",
      "  Using cached pickle5-0.0.11.tar.gz (132 kB)\n",
      "Building wheels for collected packages: pickle5\n",
      "  Building wheel for pickle5 (setup.py) ... \u001b[?25ldone\n",
      "\u001b[?25h  Created wheel for pickle5: filename=pickle5-0.0.11-cp38-cp38-linux_x86_64.whl size=290448 sha256=07ebf9ee46a3fb7100391cc1c93f32d88db0a8b4737dc3d639c3147aa4e2682d\n",
      "  Stored in directory: /home/aptperson/.cache/pip/wheels/25/d4/61/dbd8edd1a0d656be7b4267c85db3b61951eb60016a0154a122\n",
      "Successfully built pickle5\n",
      "Installing collected packages: pickle5\n",
      "Successfully installed pickle5-0.0.11\n"
     ]
    }
   ],
   "source": [
    "!pip install pickle5"
   ]
  },
  {
   "cell_type": "code",
   "execution_count": 32,
   "metadata": {},
   "outputs": [],
   "source": [
    "import pickle\n",
    "from datetime import datetime\n",
    "import json\n",
    "\n",
    "import boto3\n",
    "\n",
    "import pandas as pd\n",
    "\n",
    "from boto3.dynamodb.conditions import Key, Attr\n",
    "\n",
    "from src.query_utils import get_pkl_from_s3\n",
    "\n",
    "# db = boto3.resource('dynamodb', 'ap-southeast-2')\n",
    "# s3 = boto3.client('s3')\n",
    "\n",
    "# def get_pkl_from_s3(fn, bucket = 'signallambda-dev-large-df-storage'):\n",
    "#     s3 = boto3.client('s3')\n",
    "#     bucket_objects = s3.list_objects(Bucket=bucket)\n",
    "#     s3_files = [C['Key'] for C in bucket_objects['Contents']]\n",
    "#     signal_file = [fn in b for b in s3_files]\n",
    "#     signal_file = [i for (i, v) in zip(s3_files, signal_file) if v]\n",
    "#     if len(signal_file) > 0:\n",
    "#         print('attempting to read: {}'.format(signal_file[0]))\n",
    "#         try:\n",
    "#             s3 = boto3.resource('s3')\n",
    "#             my_pickle = pickle.loads(s3.Bucket(bucket).Object(signal_file[0]).get()['Body'].read())\n",
    "#             print('much_read success')\n",
    "#         except Exception as e:\n",
    "#             print(repr(e))\n",
    "#     else:\n",
    "#         print('could not find file with string {}\\nfiles in bucket:{}'.format(fn, s3_files))\n",
    "#         my_pickle = []\n",
    "#     return(my_pickle)\n"
   ]
  },
  {
   "cell_type": "code",
   "execution_count": 33,
   "metadata": {},
   "outputs": [
    {
     "name": "stdout",
     "output_type": "stream",
     "text": [
      "attempting to read: Stratergy_results_2020-09-16_insample.pkl\n",
      "much_read success\n"
     ]
    }
   ],
   "source": [
    "best_result_fn = 'Stratergy_results_2020-09-16'\n",
    "obj = get_pkl_from_s3(best_result_fn)"
   ]
  },
  {
   "cell_type": "code",
   "execution_count": 36,
   "metadata": {},
   "outputs": [
    {
     "data": {
      "text/plain": [
       "{'stratergy': 'idio_mean_frog',\n",
       " 'stratergy_period': 'ALL',\n",
       " 'N': 10,\n",
       " 'start_year': 2000,\n",
       " 'end_year': 2018,\n",
       " 'final_wealth_multiple': 127.17722249791554,\n",
       " 'sharpe_ratio': 1.1700467947792954,\n",
       " 'kelly_leverage': 5.549695996557384,\n",
       " 'final_wealth_check': True,\n",
       " 'run_date_time': '2020-09-16 14:27:09.206373+10:00'}"
      ]
     },
     "execution_count": 36,
     "metadata": {},
     "output_type": "execute_result"
    }
   ],
   "source": [
    "pnl_series = obj.pop('pnl_series')\n",
    "obj"
   ]
  },
  {
   "cell_type": "code",
   "execution_count": 37,
   "metadata": {},
   "outputs": [
    {
     "data": {
      "text/plain": [
       "{'stratergy': 'idio_mean_frog',\n",
       " 'stratergy_period': 'ALL',\n",
       " 'N': 10,\n",
       " 'start_year': 2000,\n",
       " 'end_year': 2018,\n",
       " 'final_wealth_multiple': 127.17722249791554,\n",
       " 'sharpe_ratio': 1.1700467947792954,\n",
       " 'kelly_leverage': 5.549695996557384,\n",
       " 'final_wealth_check': True,\n",
       " 'run_date_time': '2020-09-16 14:27:09.206373+10:00'}"
      ]
     },
     "execution_count": 37,
     "metadata": {},
     "output_type": "execute_result"
    }
   ],
   "source": [
    "obj"
   ]
  },
  {
   "cell_type": "code",
   "execution_count": null,
   "metadata": {},
   "outputs": [],
   "source": []
  }
 ],
 "metadata": {
  "kernelspec": {
   "display_name": "aws_py38",
   "language": "python",
   "name": "aws_py38"
  },
  "language_info": {
   "codemirror_mode": {
    "name": "ipython",
    "version": 3
   },
   "file_extension": ".py",
   "mimetype": "text/x-python",
   "name": "python",
   "nbconvert_exporter": "python",
   "pygments_lexer": "ipython3",
   "version": "3.8.3"
  }
 },
 "nbformat": 4,
 "nbformat_minor": 4
}
